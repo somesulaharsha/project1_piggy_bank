{
 "cells": [
  {
   "cell_type": "markdown",
   "metadata": {},
   "source": [
    "# piggy bank software "
   ]
  },
  {
   "cell_type": "code",
   "execution_count": null,
   "metadata": {},
   "outputs": [
    {
     "name": "stdout",
     "output_type": "stream",
     "text": [
      "welcome to piggy bank\n",
      "Start or End:start\n",
      "Add,Withdraw or Check:add\n",
      "Add amount :1000\n",
      "After adding,your updated balance is  1000.0 rupess\n",
      "NONE\n",
      "Start or End:start\n",
      "Add,Withdraw or Check:withdraw\n",
      "Withdraw amount :500\n",
      "After withdrawing, balance amount is  500.0 rupess\n",
      "NONE\n",
      "Start or End:start\n",
      "Add,Withdraw or Check:Check\n",
      "Your current balance is 500.0 rupees\n",
      "NONE\n",
      "Start or End:end\n"
     ]
    }
   ],
   "source": [
    "mybalance=0\n",
    "print('welcome to piggy bank')\n",
    "while(True):\n",
    "   z=input('Start or End:')\n",
    "   \n",
    "   if z=='Start' or z=='start':\n",
    "    a=input('Add,Withdraw or Check:')\n",
    "    if a== 'Add' or a== 'add':\n",
    "       amount=int(input('Add amount :'))\n",
    "       mybalance=mybalance+amount\n",
    "       print('After adding,your updated balance is ',float(mybalance), 'rupess')\n",
    "    elif a== 'Withdraw' or a=='withdraw':\n",
    "       amount=int(input('Withdraw amount :'))\n",
    "       if amount>mybalance:\n",
    "           print('not sufficient')\n",
    "       mybalance=mybalance-amount\n",
    "       print('After withdrawing, balance amount is ',float(mybalance), 'rupess')\n",
    "    elif a=='Check':\n",
    "        print('Your current balance is',float(mybalance),'rupees')\n",
    "    elif z!=Start:\n",
    "        break\n",
    "    print('NONE')\n",
    "      \n",
    "        \n",
    "\n"
   ]
  },
  {
   "cell_type": "code",
   "execution_count": null,
   "metadata": {},
   "outputs": [],
   "source": []
  },
  {
   "cell_type": "code",
   "execution_count": null,
   "metadata": {},
   "outputs": [],
   "source": []
  }
 ],
 "metadata": {
  "kernelspec": {
   "display_name": "Python 3",
   "language": "python",
   "name": "python3"
  },
  "language_info": {
   "codemirror_mode": {
    "name": "ipython",
    "version": 3
   },
   "file_extension": ".py",
   "mimetype": "text/x-python",
   "name": "python",
   "nbconvert_exporter": "python",
   "pygments_lexer": "ipython3",
   "version": "3.7.1"
  }
 },
 "nbformat": 4,
 "nbformat_minor": 2
}
